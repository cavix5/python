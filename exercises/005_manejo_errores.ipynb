{
 "cells": [
  {
   "cell_type": "code",
   "execution_count": null,
   "id": "62833d42-4fd7-401a-a6a6-e153ab34f1ab",
   "metadata": {},
   "outputs": [],
   "source": []
  },
  {
   "cell_type": "markdown",
   "id": "77674ee7-f7bd-4c76-aa2f-1fc4c71953d8",
   "metadata": {},
   "source": [
    "# MANEJO DE ERRORES (try/except/else/finally)"
   ]
  },
  {
   "cell_type": "markdown",
   "id": "7ef2a42d-6b82-4c89-a7d1-e43b3b649caa",
   "metadata": {},
   "source": [
    "**1.** Pide al usuario un número y divide 100 entre ese número. Maneja si escribe \"0\" o texto."
   ]
  },
  {
   "cell_type": "code",
   "execution_count": 4,
   "id": "7012e215-81b6-4e98-ae81-baef7cd743c4",
   "metadata": {},
   "outputs": [
    {
     "name": "stdout",
     "output_type": "stream",
     "text": [
      "La división fue exitosa.\n"
     ]
    },
    {
     "data": {
      "text/plain": [
       "10.0"
      ]
     },
     "execution_count": 4,
     "metadata": {},
     "output_type": "execute_result"
    }
   ],
   "source": [
    "def division(numero):\n",
    "    try:\n",
    "        resultado = numero/100\n",
    "        \n",
    "    except TypeError:\n",
    "        # Si hay un error de tipo\n",
    "        print(\"¡Error! Se deben pasar números.\")\n",
    "        return None\n",
    "        \n",
    "    else:\n",
    "        print(\"La división fue exitosa.\")\n",
    "        return resultado\n",
    "\n",
    "division(1000)"
   ]
  },
  {
   "cell_type": "markdown",
   "id": "c669eebb-94de-4b15-a32b-764cced46eaf",
   "metadata": {},
   "source": [
    "**2.** Abre un archivo que no existe. Muestra un mensaje personalizado si ocurre un error."
   ]
  },
  {
   "cell_type": "code",
   "execution_count": 12,
   "id": "9f486180-6034-4e49-81a5-5c6070043d24",
   "metadata": {},
   "outputs": [],
   "source": [
    "def abrir_archivo(f):\n",
    "    try:\n",
    "        resultado = open(f,'r') # Pedimos que abra el archivo para lectura\n",
    "        print(resultado)\n",
    "        \n",
    "    except FileNotFoundError:\n",
    "        # Si no existe el archivo\n",
    "        print(\"¡Error! No existe ese archivo.\")"
   ]
  },
  {
   "cell_type": "markdown",
   "id": "af76e260-6701-4868-afb7-6f30e694adeb",
   "metadata": {},
   "source": [
    "**3.** Pide al usuario su edad. Si escribe algo inválido, muestra: \"Edad no válida\"."
   ]
  },
  {
   "cell_type": "code",
   "execution_count": 14,
   "id": "8e1051fd-b085-4771-b2ab-b972ac40747e",
   "metadata": {},
   "outputs": [
    {
     "name": "stdout",
     "output_type": "stream",
     "text": [
      "4\n"
     ]
    }
   ],
   "source": [
    "def edad(numero):\n",
    "    \n",
    "    try:\n",
    "        numero = int(numero) # Convertirmos el valor a int\n",
    "        print(numero)\n",
    "        \n",
    "    except ValueError:\n",
    "        print(\"¡Error! Edad no válida.\")\n",
    "        return None\n",
    "\n",
    "edad(4)"
   ]
  },
  {
   "cell_type": "markdown",
   "id": "05610924-32f1-44c7-b831-acd91465cc39",
   "metadata": {},
   "source": [
    "**4.** Usa try/except con else: si no hay error al sumar dos números, imprime \"Todo salió bien\"."
   ]
  },
  {
   "cell_type": "code",
   "execution_count": 15,
   "id": "e84106b5-4b7b-4291-b1a3-7c247cb403c8",
   "metadata": {},
   "outputs": [
    {
     "name": "stdout",
     "output_type": "stream",
     "text": [
      "10.8\n"
     ]
    }
   ],
   "source": [
    "def suma(a,b):\n",
    "    try:\n",
    "        if (int(a) and int(b)) or (float(a) and float(b)): # Nos aseguramos que sean tipo int o float\n",
    "            suma = a + b\n",
    "        \n",
    "    except ValueError:\n",
    "        print(\"¡Error! Suma no válida.\")\n",
    "        return None\n",
    "\n",
    "    else:\n",
    "        print(suma)\n",
    "            \n",
    "suma(5.8,5) "
   ]
  },
  {
   "cell_type": "markdown",
   "id": "e2b858af-7ca1-4890-baed-d3199bd8e489",
   "metadata": {},
   "source": [
    "**5.** Usa try/except/finally: intentes dividir, captura errores y en finally imprime \"Proceso terminado\"."
   ]
  },
  {
   "cell_type": "code",
   "execution_count": 13,
   "id": "7bb936a4-afbd-45d1-8722-2e93c8ae8f17",
   "metadata": {},
   "outputs": [
    {
     "name": "stdout",
     "output_type": "stream",
     "text": [
      "2.0\n"
     ]
    }
   ],
   "source": [
    "def dividir(a,b):\n",
    "    try:\n",
    "        if (int(a) and int(b)) or (float(a) and float(b)):\n",
    "            division = a/b\n",
    "            \n",
    "    except ZeroDivisionError:\n",
    "        print(\"¡Error! Estas intentando dividir entre cero.\")\n",
    "        \n",
    "    except (TypeError, ValueError):\n",
    "        print(\"¡Error! División no válida.\")\n",
    "        return None\n",
    "\n",
    "    else:\n",
    "        print(division)\n",
    "\n",
    "dividir(10,5)"
   ]
  },
  {
   "cell_type": "code",
   "execution_count": null,
   "id": "62619bdf-c1b1-464e-8f53-ce28ce484644",
   "metadata": {},
   "outputs": [],
   "source": []
  }
 ],
 "metadata": {
  "kernelspec": {
   "display_name": "Python 3 (ipykernel)",
   "language": "python",
   "name": "python3"
  },
  "language_info": {
   "codemirror_mode": {
    "name": "ipython",
    "version": 3
   },
   "file_extension": ".py",
   "mimetype": "text/x-python",
   "name": "python",
   "nbconvert_exporter": "python",
   "pygments_lexer": "ipython3",
   "version": "3.11.7"
  }
 },
 "nbformat": 4,
 "nbformat_minor": 5
}
