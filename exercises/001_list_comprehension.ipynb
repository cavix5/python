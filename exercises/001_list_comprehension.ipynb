{
 "cells": [
  {
   "cell_type": "code",
   "execution_count": 16,
   "id": "f273a14c-d3d8-4864-a0a7-7069b97c8b6f",
   "metadata": {},
   "outputs": [],
   "source": [
    "import numpy as np"
   ]
  },
  {
   "cell_type": "markdown",
   "id": "1fd516ef-9f88-4ec1-8e7c-5a40ef0b29a3",
   "metadata": {},
   "source": [
    "✨**Reto 1: Cuadrados mágicos**\n",
    "\n",
    "Crea una lista con los cuadrados de los números del 1 al 10"
   ]
  },
  {
   "cell_type": "code",
   "execution_count": 20,
   "id": "dcbc9f2c-e98f-43ea-bf50-de678e8dee9a",
   "metadata": {},
   "outputs": [
    {
     "data": {
      "text/plain": [
       "[1.0, 4.0, 9.0, 16.0, 25.0, 36.0, 49.0, 64.0, 81.0, 100.0]"
      ]
     },
     "execution_count": 20,
     "metadata": {},
     "output_type": "execute_result"
    }
   ],
   "source": [
    "numeros = np.linspace(1,10,10)\n",
    "\n",
    "cuadrados = [numero ** 2 for numero in numeros]\n",
    "cuadrados"
   ]
  },
  {
   "cell_type": "markdown",
   "id": "fccece49-751c-4c75-a87e-40f2faf9b060",
   "metadata": {},
   "source": [
    "🍭 **Reto 2: Solo dulces**\n",
    "\n",
    "De esta lista, guarda solo los elementos que **terminen en \"a\":**\n",
    "\n",
    "`comida = [\"manzana\", \"pan\", \"fresa\", \"queso\", \"pera\"]`"
   ]
  },
  {
   "cell_type": "code",
   "execution_count": 6,
   "id": "4a1eeca9-bf0d-4e66-86cb-bb5847d957b9",
   "metadata": {},
   "outputs": [
    {
     "data": {
      "text/plain": [
       "['manzana', 'fresa', 'pera']"
      ]
     },
     "execution_count": 6,
     "metadata": {},
     "output_type": "execute_result"
    }
   ],
   "source": [
    "comida = [\"manzana\", \"pan\", \"fresa\", \"queso\", \"pera\"]\n",
    "\n",
    "terminar = [food for food in comida if food.endswith('a')]\n",
    "terminar"
   ]
  },
  {
   "cell_type": "markdown",
   "id": "66f64652-2eb5-4b18-9527-cc145f41e086",
   "metadata": {},
   "source": [
    "🧠 **Reto 3: ¿Quién tiene nombre largo?**\n",
    "\n",
    "Tienes esta lista:\n",
    "\n",
    "`nombres = [\"Ana\", \"Isabella\", \"Max\", \"Caterina\"]`\n",
    "\n",
    "Crea una nueva lista con los nombres que tengan **más de 4 letras.**\n"
   ]
  },
  {
   "cell_type": "code",
   "execution_count": 11,
   "id": "28126a78-9f15-491d-90d8-baf38aac1467",
   "metadata": {},
   "outputs": [
    {
     "data": {
      "text/plain": [
       "['Isabella', 'Caterina']"
      ]
     },
     "execution_count": 11,
     "metadata": {},
     "output_type": "execute_result"
    }
   ],
   "source": [
    "nombres = [\"Ana\", \"Isabella\", \"Max\", \"Caterina\"]\n",
    "\n",
    "cuatro = [nombre for nombre in nombres if len(nombre) > 4]\n",
    "cuatro"
   ]
  },
  {
   "cell_type": "markdown",
   "id": "3a02f352-b1e5-4216-91c5-8de84dee2832",
   "metadata": {},
   "source": [
    "🤖 **Reto 4 (nivel robotito): Lista de booleanos**\n",
    "\n",
    "Dada una lista de edades:\n",
    "\n",
    "`edades = [3, 7, 12, 4, 9]`\n",
    "\n",
    "Crea una lista de True o False dependiendo de si **la edad es mayor o igual a 6.**\n"
   ]
  },
  {
   "cell_type": "code",
   "execution_count": 15,
   "id": "ea7bf183-3bc5-4730-bd49-9afe9d699752",
   "metadata": {},
   "outputs": [
    {
     "data": {
      "text/plain": [
       "[False, True, True, False, True]"
      ]
     },
     "execution_count": 15,
     "metadata": {},
     "output_type": "execute_result"
    }
   ],
   "source": [
    "edades = [3, 7, 12, 4, 9]\n",
    "\n",
    "seis = [True if edad >= 6 else False for edad in edades]\n",
    "seis"
   ]
  },
  {
   "cell_type": "code",
   "execution_count": null,
   "id": "cbb81b17-a661-4b27-983b-28bc63382097",
   "metadata": {},
   "outputs": [],
   "source": []
  }
 ],
 "metadata": {
  "kernelspec": {
   "display_name": "Python 3 (ipykernel)",
   "language": "python",
   "name": "python3"
  },
  "language_info": {
   "codemirror_mode": {
    "name": "ipython",
    "version": 3
   },
   "file_extension": ".py",
   "mimetype": "text/x-python",
   "name": "python",
   "nbconvert_exporter": "python",
   "pygments_lexer": "ipython3",
   "version": "3.11.7"
  }
 },
 "nbformat": 4,
 "nbformat_minor": 5
}
