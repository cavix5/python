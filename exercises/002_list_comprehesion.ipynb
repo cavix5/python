{
 "cells": [
  {
   "cell_type": "code",
   "execution_count": 73,
   "id": "901c3ce7-0038-4d80-9dad-5050e6fceefe",
   "metadata": {},
   "outputs": [],
   "source": [
    "import numpy as np\n",
    "import pandas as pd"
   ]
  },
  {
   "cell_type": "markdown",
   "id": "dd70c00b-04bc-4e22-9b9e-9a1bae1769a2",
   "metadata": {},
   "source": [
    "🧠 **Ejercicio 1: Números pares al revés.**\n",
    "    \n",
    "Dada una lista de números del 1 al 20, crea una nueva lista con **los pares en orden descendente.**"
   ]
  },
  {
   "cell_type": "code",
   "execution_count": 76,
   "id": "ea7ba1c4-571b-4b11-b8c4-2d1cbab74b96",
   "metadata": {},
   "outputs": [
    {
     "data": {
      "text/plain": [
       "[20, 18, 16, 14, 12, 10, 8, 6, 4, 2]"
      ]
     },
     "execution_count": 76,
     "metadata": {},
     "output_type": "execute_result"
    }
   ],
   "source": [
    "# Crear una lista de numeros del 1 al 20\n",
    "numeros = range(1, 21)\n",
    "\n",
    "# Usamos sorted para que ordene de mayor a menor \n",
    "# la lista original y asi regrese los valores\n",
    "pares = [numero for numero in sorted(numeros, reverse = True) if numero % 2 == 0]\n",
    "pares"
   ]
  },
  {
   "cell_type": "markdown",
   "id": "0e4be6f2-19c8-49c0-98bc-14f44be8aded",
   "metadata": {},
   "source": [
    "🧠 **Ejercicio 2: Letras mayúsculas**\n",
    "\n",
    "Dada esta lista:\n",
    "\n",
    "`palabras = [\"perro\", \"GATO\", \"Conejo\", \"tortuga\"]`\n",
    "\n",
    "Crea una nueva lista que tenga solo las palabras que están **totalmente en mayúsculas.**"
   ]
  },
  {
   "cell_type": "code",
   "execution_count": 9,
   "id": "a2ec1552-c8ec-492a-8c84-71e963125d47",
   "metadata": {},
   "outputs": [
    {
     "data": {
      "text/plain": [
       "['GATO']"
      ]
     },
     "execution_count": 9,
     "metadata": {},
     "output_type": "execute_result"
    }
   ],
   "source": [
    "palabras = [\"perro\", \"GATO\", \"Conejo\", \"tortuga\"]\n",
    "\n",
    "mayuscula = [palabra for palabra in palabras if palabra.upper() == palabra]\n",
    "mayuscula"
   ]
  },
  {
   "cell_type": "markdown",
   "id": "1aebcf91-ff21-4e28-986e-e38165ffbe8a",
   "metadata": {},
   "source": [
    "🧠 **Ejercicio 3: Longitud y filtro**\n",
    "\n",
    "De esta lista:\n",
    "\n",
    "`nombres = [\"Ana\", \"Isabella\", \"Max\", \"Santiago\", \"Luz\"]`\n",
    "\n",
    "Crea una nueva lista con la **longitud de los nombres** que tengan **más de 5 letras.**"
   ]
  },
  {
   "cell_type": "code",
   "execution_count": 12,
   "id": "4547eec9-5638-4436-b5a6-78f2b0ba4f59",
   "metadata": {},
   "outputs": [
    {
     "data": {
      "text/plain": [
       "[8, 8]"
      ]
     },
     "execution_count": 12,
     "metadata": {},
     "output_type": "execute_result"
    }
   ],
   "source": [
    "nombres = [\"Ana\", \"Isabella\", \"Max\", \"Santiago\", \"Luz\"]\n",
    "\n",
    "longitud = [len(nombre) for nombre in nombres if len(nombre) > 5]\n",
    "longitud"
   ]
  },
  {
   "cell_type": "markdown",
   "id": "2d7fddc8-d41e-42a6-b4c5-15ed2e8335cc",
   "metadata": {},
   "source": [
    "🧠 **Ejercicio 4: Diccionario simplificado**\n",
    "\n",
    "Tienes una lista de diccionarios:\n",
    "\n",
    "`personas = [\r\n",
    "    {\"nombre\": \"Luna\", \"edad\": 5},\r\n",
    "    {\"nombre\": \"Max\", \"edad\": 7},\r\n",
    "    {\"nombre\": \"Sofi\", \"edad\": 4`\n",
    "\n",
    "Crea una lista con los **nombres** de las personas que tengan **edad mayor o igual a 5.**}\r\n",
    "]"
   ]
  },
  {
   "cell_type": "code",
   "execution_count": 31,
   "id": "0fd6784c-5512-420b-aeaf-61149700fe89",
   "metadata": {},
   "outputs": [
    {
     "data": {
      "text/plain": [
       "['Luna', 'Max']"
      ]
     },
     "execution_count": 31,
     "metadata": {},
     "output_type": "execute_result"
    }
   ],
   "source": [
    "personas = [\n",
    "    {\"nombre\": \"Luna\", \"edad\": 5},\n",
    "    {\"nombre\": \"Max\", \"edad\": 7},\n",
    "    {\"nombre\": \"Sofi\", \"edad\": 4}\n",
    "]\n",
    "\n",
    "mayores_5 = [persona[\"nombre\"] for persona in personas if persona[\"edad\"] >= 5]\n",
    "mayores_5"
   ]
  },
  {
   "cell_type": "markdown",
   "id": "31c8ee0c-6da6-459f-a76d-95d4260a2e92",
   "metadata": {},
   "source": [
    "🧠 **Ejercicio 5: Tablas de multiplicar**\n",
    "\n",
    "Crea una lista con los resultados de la **tabla del 1 al 3**, multiplicando del 1 al 5."
   ]
  },
  {
   "cell_type": "code",
   "execution_count": 52,
   "id": "5c88a6e7-83da-4555-ad05-602b4dd02c42",
   "metadata": {},
   "outputs": [
    {
     "data": {
      "text/plain": [
       "[1, 2, 3, 4, 5, 2, 4, 6, 8, 10, 3, 6, 9, 12, 15]"
      ]
     },
     "execution_count": 52,
     "metadata": {},
     "output_type": "execute_result"
    }
   ],
   "source": [
    "num = [1, 2, 3] \n",
    "tabla = [1, 2, 3, 4, 5]\n",
    "\n",
    "# range(1,4) genera los numeros 1, 2, 3\n",
    "# range(1,6) genera 1, 2, 3, 4, 5\n",
    "# num * tabla multiplica los valores de ambas listas\n",
    "# el primer for fija el numero que se esta multiplicando\n",
    "# el segundo fija la tabla 1, 2 o 3\n",
    "\n",
    "multiplicar = [num * tabla for tabla in range(1,4) for num in range(1,6)]\n",
    "multiplicar"
   ]
  },
  {
   "cell_type": "markdown",
   "id": "2090f5b1-a362-42d8-bc35-3c42fda8df63",
   "metadata": {},
   "source": [
    "🧠 **Ejercicio 6: Aplanar listas (flatten)**\n",
    "\n",
    "Dada una lista de listas:\n",
    "\n",
    "`listas = [[1, 2], [3, 4, 5], [6]]`\n",
    "\n",
    "Usa comprensión de listas para convertirla en una **sola lista.**"
   ]
  },
  {
   "cell_type": "code",
   "execution_count": 47,
   "id": "711e502f-c126-4c62-98bb-cbb3853e03c5",
   "metadata": {},
   "outputs": [
    {
     "data": {
      "text/plain": [
       "[1, 2, 3, 4, 5, 6]"
      ]
     },
     "execution_count": 47,
     "metadata": {},
     "output_type": "execute_result"
    }
   ],
   "source": [
    "listas = [[1, 2], [3, 4, 5], [6]]\n",
    "\n",
    "# El primer for es para recorrer la lista completa y el segundo para recorrer\n",
    "# cada elemento de las sublistas\n",
    "aplanar = [elemento for sublista in listas for elemento in sublista]\n",
    "aplanar"
   ]
  },
  {
   "cell_type": "markdown",
   "id": "9c50e2e1-6e9b-46ae-91c9-0e5f33a640f0",
   "metadata": {},
   "source": [
    "🧠 **Ejercicio 7: Matriz booleana**\n",
    "\n",
    "Dada esta matriz:\n",
    "\n",
    "`matriz = [[1, 2, 3], [4, 5, 6]]`\n",
    "\n",
    "Crea una **nueva matriz** que tenga True si el número es par, y False si es impar."
   ]
  },
  {
   "cell_type": "code",
   "execution_count": 64,
   "id": "febb9716-e36a-47c9-ab16-68f638877ad6",
   "metadata": {},
   "outputs": [
    {
     "data": {
      "text/plain": [
       "[False, True, False, True, False, True]"
      ]
     },
     "execution_count": 64,
     "metadata": {},
     "output_type": "execute_result"
    }
   ],
   "source": [
    "matriz = [[1, 2, 3], [4, 5, 6]]\n",
    "\n",
    "# valor % 2 == 0 si el residuo es cero es par\n",
    "# el primer for es para recorrer cada fila\n",
    "# el segundo for toma cada uno de los valores de la fila\n",
    "matriz_bool = [True if valor % 2 == 0 else False for fila in matriz for valor in fila]\n",
    "matriz_bool"
   ]
  },
  {
   "cell_type": "code",
   "execution_count": null,
   "id": "018be572-2d4e-4b3b-9550-2684cc5eb9e1",
   "metadata": {},
   "outputs": [],
   "source": []
  }
 ],
 "metadata": {
  "kernelspec": {
   "display_name": "Python 3 (ipykernel)",
   "language": "python",
   "name": "python3"
  },
  "language_info": {
   "codemirror_mode": {
    "name": "ipython",
    "version": 3
   },
   "file_extension": ".py",
   "mimetype": "text/x-python",
   "name": "python",
   "nbconvert_exporter": "python",
   "pygments_lexer": "ipython3",
   "version": "3.11.7"
  }
 },
 "nbformat": 4,
 "nbformat_minor": 5
}
