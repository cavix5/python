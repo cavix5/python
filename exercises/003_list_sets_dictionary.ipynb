{
 "cells": [
  {
   "cell_type": "code",
   "execution_count": 1,
   "id": "70d1156f-eb06-412b-95e9-fa9e9f9de685",
   "metadata": {},
   "outputs": [],
   "source": [
    "import pandas as pd"
   ]
  },
  {
   "cell_type": "markdown",
   "id": "2963b8b8-7ece-4306-8261-2b6ac07f3b78",
   "metadata": {},
   "source": [
    "✅ **Ejercicio 1: Acceder elementos**\n",
    "\n",
    "`frutas = [\"manzana\", \"plátano\", \"fresa\", \"uva\"]`\n",
    "\n",
    "1. Imprime el primer y último elemento.\n",
    "2. Agrega \"naranja\" al final.\n",
    "3. Cambia \"fresa\" por \"kiwi\".\n",
    "4. Imprime toda la lista."
   ]
  },
  {
   "cell_type": "code",
   "execution_count": 26,
   "id": "af7cf367-87ed-43fd-8b13-4996bba4e11e",
   "metadata": {},
   "outputs": [
    {
     "data": {
      "text/plain": [
       "['manzana', 'plátano', 'kiwi', 'uva', 'naranja']"
      ]
     },
     "execution_count": 26,
     "metadata": {},
     "output_type": "execute_result"
    }
   ],
   "source": [
    "frutas = [\"manzana\", \"plátano\", \"fresa\", \"uva\"]\n",
    "\n",
    "frutas[0] # Primer elemento\n",
    "frutas[-1] # Ultimo elemento\n",
    "\n",
    "frutas.append(\"naranja\") # Agrega un elemento al final de la lista\n",
    "\n",
    "frutas[2] = \"kiwi\" # Cambiar fresa por kiwi\n",
    "\n",
    "frutas"
   ]
  },
  {
   "cell_type": "markdown",
   "id": "fc17fdb8-b0c0-460c-b0e7-b1e032c773e4",
   "metadata": {},
   "source": [
    "✅ **Ejercicio 2: Números al cuadrado**\n",
    "\n",
    "`numeros = [1, 2, 3, 4, 5]`\n",
    "\n",
    "Crea una nueva lista llamada `cuadrados` que contenga los cuadrados de cada número."
   ]
  },
  {
   "cell_type": "code",
   "execution_count": 27,
   "id": "829a602b-001e-4bc2-997f-3f3bb42776fc",
   "metadata": {},
   "outputs": [
    {
     "data": {
      "text/plain": [
       "[1, 4, 9, 16, 25]"
      ]
     },
     "execution_count": 27,
     "metadata": {},
     "output_type": "execute_result"
    }
   ],
   "source": [
    "numeros = [1, 2, 3, 4, 5]\n",
    "\n",
    "cuadrados = [numero ** 2 for numero in numeros]\n",
    "cuadrados"
   ]
  },
  {
   "cell_type": "markdown",
   "id": "4eef3e8e-8090-4e65-b442-fe9c68277300",
   "metadata": {},
   "source": [
    "✅ **Ejercicio 3: Crear y acceder**\n",
    "\n",
    "`persona = {\"nombre\": \"Luna\", \"edad\": 6, \"ciudad\": \"CDMX\"}`\n",
    "\n",
    "1. Imprime el nombre.\n",
    "2. Cambia la ciudad a `\"GDL\".`\n",
    "3. Agrega un nuevo campo `\"hobby\"` con el valor `\"dibujar\"`.\n",
    "4. Imprime todas las claves y todos los valores."
   ]
  },
  {
   "cell_type": "code",
   "execution_count": 35,
   "id": "cee16141-f938-4ba0-9cb7-3bb0ad2e7398",
   "metadata": {},
   "outputs": [
    {
     "data": {
      "text/plain": [
       "{'nombre': 'Luna', 'edad': 6, 'ciudad': 'GDL', 'hobby': 'dibujar'}"
      ]
     },
     "execution_count": 35,
     "metadata": {},
     "output_type": "execute_result"
    }
   ],
   "source": [
    "persona = {\"nombre\": \"Luna\", \"edad\": 6, \"ciudad\": \"CDMX\"}\n",
    "\n",
    "persona[\"nombre\"] # Imprimir variable nombre\n",
    "\n",
    "persona[\"ciudad\"] = \"GDL\" # Cambiar ciudd CDMX a GDL\n",
    "\n",
    "persona[\"hobby\"] = \"dibujar\" # Agregar nueva columna y valor\n",
    "\n",
    "persona"
   ]
  },
  {
   "cell_type": "markdown",
   "id": "1f21edeb-36ed-46c7-907a-fd9865559cd5",
   "metadata": {},
   "source": [
    "✅ **Ejercicio 4: Lista de diccionarios**\n",
    "\n",
    "`alumnos = [ {\"nombre\": \"Ana\", \"edad\": 8},\r\n",
    "    {\"nombre\": \"Luis\", \"edad\": 10},\r\n",
    "    {\"nombre\": \"Eva\", \"edad\":9`\n",
    "\n",
    "1. Imprime el nombre de cada alumno.\n",
    "2. Suma todas las edades.\n",
    "3. Crea una lista con los nombres de alumnos mayores de 8 años.\r\n",
    "]\n"
   ]
  },
  {
   "cell_type": "code",
   "execution_count": 76,
   "id": "7ff5f583-2396-4cbb-97a4-ba6d642e5090",
   "metadata": {},
   "outputs": [],
   "source": [
    "alumnos = [\n",
    "    {\"nombre\": \"Ana\", \"edad\": 8},\n",
    "    {\"nombre\": \"Luis\", \"edad\": 10},\n",
    "    {\"nombre\": \"Eva\", \"edad\": 9}\n",
    "]\n",
    "\n",
    "imprimir = [alumno[\"nombre\"] for alumno in alumnos] # Imprimir nombre de cada alumno\n",
    "\n",
    "suma = sum([alumno[\"edad\"] for alumno in alumnos]) # Sumar todas las edades\n",
    "\n",
    "nombres = [alumno[\"nombre\"] for alumno in alumnos if alumno[\"edad\"] > 8] # Alumnos mayores de 8"
   ]
  },
  {
   "cell_type": "markdown",
   "id": "d72160b1-4a47-4631-990c-8ea4902f50d7",
   "metadata": {},
   "source": [
    "✅ **Ejercicio 5: Elimina duplicados**\n",
    "\n",
    "`colores = [\"rojo\", \"azul\", \"rojo\", \"verde\", \"azul\", \"amarillo\"]`\n",
    "\n",
    "1. Convierte la lista a un set para eliminar los repetidos.\n",
    "2. Convierte el set de nuevo a lista.\n",
    "3. Agrega un nuevo color."
   ]
  },
  {
   "cell_type": "code",
   "execution_count": 65,
   "id": "13c5f719-37c7-4222-9ee3-481d6c399970",
   "metadata": {},
   "outputs": [
    {
     "data": {
      "text/plain": [
       "['rojo', 'azul', 'rojo', 'verde', 'azul', 'amarillo', 'rosa']"
      ]
     },
     "execution_count": 65,
     "metadata": {},
     "output_type": "execute_result"
    }
   ],
   "source": [
    "colores = [\"rojo\", \"azul\", \"rojo\", \"verde\", \"azul\", \"amarillo\"]\n",
    "\n",
    "set(colores) # Convertir list a set\n",
    "\n",
    "list(colores) # Convertir set a lista\n",
    "\n",
    "colores.append(\"rosa\") # Agregar un nuevo elemento\n",
    "\n",
    "colores"
   ]
  },
  {
   "cell_type": "markdown",
   "id": "56fef1c1-f02f-41d2-8b72-d0bb1754c067",
   "metadata": {},
   "source": [
    "✅ **Ejercicio 6: Operaciones con sets**\n",
    "\n",
    "`set1 = {\"manzana\", \"pera\", \"uva\"}`\r",
    "`\n",
    "set2 = {\"manzana\", \"sandía\", \"uva\"`}\n",
    "1. Encuentra los elementos que están en **ambos sets.**\n",
    "2. Encuentra los que están **solo en** `set1.`\n",
    "3. Une ambos sets en uno nuevo.\n"
   ]
  },
  {
   "cell_type": "code",
   "execution_count": 71,
   "id": "4e1c2f31-b0ea-4e5d-82a5-87f4dd6da137",
   "metadata": {},
   "outputs": [],
   "source": [
    "set1 = {\"manzana\", \"pera\", \"uva\"}  \n",
    "set2 = {\"manzana\", \"sandía\", \"uva\"}\n",
    "\n",
    "ambos = set1 & set2 # Estan en ambos sets\n",
    "\n",
    "solo_set1 = set1 - set2 # Solo está en set1\n",
    "\n",
    "union = set1 | set2  # Unir dos sets"
   ]
  },
  {
   "cell_type": "markdown",
   "id": "374819be-7fea-4cdb-8193-0c80001a85d3",
   "metadata": {},
   "source": [
    "✅ **Ejercicio 7: Filtrar pares**\n",
    "\n",
    "`numeros = [1, 2, 3, 4, 5, 6, 7, 8]`\n",
    "\n",
    "Crea una nueva lista con solo los números **pares.**"
   ]
  },
  {
   "cell_type": "code",
   "execution_count": 7,
   "id": "ede611d1-b985-49e5-8908-119246209bb4",
   "metadata": {},
   "outputs": [
    {
     "data": {
      "text/plain": [
       "[2, 4, 6, 8]"
      ]
     },
     "execution_count": 7,
     "metadata": {},
     "output_type": "execute_result"
    }
   ],
   "source": [
    "numeros = [1, 2, 3, 4, 5, 6, 7, 8]\n",
    "\n",
    "pares = [valor for valor in numeros if valor % 2 == 0]\n",
    "pares"
   ]
  },
  {
   "cell_type": "markdown",
   "id": "08796c56-db2a-4b34-9bc0-005b535624c9",
   "metadata": {},
   "source": [
    "✅ **Ejercicio 8: Texto a longitudes**\n",
    "\n",
    "`palabras = [\"gato\", \"perro\", \"oso\", \"elefante\"]`\n",
    "\n",
    "Crea una lista con la **cantidad de letras** de cada palabra."
   ]
  },
  {
   "cell_type": "code",
   "execution_count": 6,
   "id": "9c9799ad-bce2-4380-9f3e-4d66132813ee",
   "metadata": {},
   "outputs": [
    {
     "data": {
      "text/plain": [
       "[4, 5, 3, 8]"
      ]
     },
     "execution_count": 6,
     "metadata": {},
     "output_type": "execute_result"
    }
   ],
   "source": [
    "palabras = [\"gato\", \"perro\", \"oso\", \"elefante\"]\n",
    "\n",
    "cantidad = [len(palabra) for palabra in palabras]\n",
    "cantidad"
   ]
  },
  {
   "cell_type": "markdown",
   "id": "1002f888-fc5c-4d12-b796-c6ea50dabec3",
   "metadata": {},
   "source": [
    "✅ **Ejercicio 9: Mayúsculas y minúsculas**\n",
    "\n",
    "`nombres = [\"ANA\", \"Luis\", \"EVA\", \"juan\"]`\n",
    "\n",
    "Crea una nueva lista que diga:\n",
    "\n",
    "- `\"MAYÚSCULA\"` si el nombre está en mayúsculas\n",
    "- `\"minúscula\"` si no lo está"
   ]
  },
  {
   "cell_type": "code",
   "execution_count": 5,
   "id": "93f7ab0c-e1df-41d9-b1ef-d5f7219e704e",
   "metadata": {},
   "outputs": [
    {
     "data": {
      "text/plain": [
       "['MAYÚSCULA', 'minúscula', 'MAYÚSCULA', 'minúscula']"
      ]
     },
     "execution_count": 5,
     "metadata": {},
     "output_type": "execute_result"
    }
   ],
   "source": [
    "nombres = [\"ANA\", \"Luis\", \"EVA\", \"juan\"]\n",
    "\n",
    "may_min = [\"MAYÚSCULA\" if nombre.isupper() else \"minúscula\" for nombre in nombres]\n",
    "may_min"
   ]
  },
  {
   "cell_type": "markdown",
   "id": "4ee32757-7a2c-4693-a954-e99a712be0e1",
   "metadata": {},
   "source": [
    "✅ **Ejercicio 10: Aplanar lista de listas**\n",
    "\n",
    "`datos = [[1, 2], [3, 4], [5]]`\n",
    "\n",
    "Usa comprensión de listas para aplanarla:\n"
   ]
  },
  {
   "cell_type": "code",
   "execution_count": 3,
   "id": "6b4a3633-4d4d-4826-a25e-462ae240be6e",
   "metadata": {},
   "outputs": [
    {
     "data": {
      "text/plain": [
       "[1, 2, 3, 4, 5]"
      ]
     },
     "execution_count": 3,
     "metadata": {},
     "output_type": "execute_result"
    }
   ],
   "source": [
    "datos = [[1, 2], [3, 4], [5]]\n",
    "\n",
    "aplanar = [valor for sublista in datos for valor in sublista]\n",
    "aplanar"
   ]
  },
  {
   "cell_type": "code",
   "execution_count": null,
   "id": "6e32c088-87dd-4d9d-a661-21c03b51c870",
   "metadata": {},
   "outputs": [],
   "source": []
  }
 ],
 "metadata": {
  "kernelspec": {
   "display_name": "Python 3 (ipykernel)",
   "language": "python",
   "name": "python3"
  },
  "language_info": {
   "codemirror_mode": {
    "name": "ipython",
    "version": 3
   },
   "file_extension": ".py",
   "mimetype": "text/x-python",
   "name": "python",
   "nbconvert_exporter": "python",
   "pygments_lexer": "ipython3",
   "version": "3.11.7"
  }
 },
 "nbformat": 4,
 "nbformat_minor": 5
}
