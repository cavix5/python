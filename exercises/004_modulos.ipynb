{
 "cells": [
  {
   "cell_type": "code",
   "execution_count": 29,
   "id": "33fb4e4e-662e-45a2-814a-3c8540ca1118",
   "metadata": {},
   "outputs": [],
   "source": [
    "import math\n",
    "import random\n",
    "import calendar\n",
    "from datetime import datetime"
   ]
  },
  {
   "cell_type": "markdown",
   "id": "8d21fa36-f2bf-4efc-b605-5478091efcae",
   "metadata": {},
   "source": [
    "# MÓDULOS (import, uso, propios)"
   ]
  },
  {
   "cell_type": "markdown",
   "id": "5ce2d90b-16db-493e-b15a-e8fbd1a29584",
   "metadata": {},
   "source": [
    "**1.** Usa el módulo `math` para calcular la raíz cuadrada de un número ingresado por el usuario."
   ]
  },
  {
   "cell_type": "code",
   "execution_count": 6,
   "id": "23a57960-c86a-423f-8451-3bc03847e7a0",
   "metadata": {},
   "outputs": [
    {
     "data": {
      "text/plain": [
       "11.0"
      ]
     },
     "execution_count": 6,
     "metadata": {},
     "output_type": "execute_result"
    }
   ],
   "source": [
    "math.sqrt(121) "
   ]
  },
  {
   "cell_type": "markdown",
   "id": "64a2b195-1b4c-4873-b5af-2973eb57e427",
   "metadata": {},
   "source": [
    "**2.** Usa el módulo `datetime` para imprimir la fecha y hora actual con este formato: `Martes, 05 Agosto 2025 - 14:30`."
   ]
  },
  {
   "cell_type": "code",
   "execution_count": 19,
   "id": "163ac6bd-db00-46be-868d-1668e6735e0d",
   "metadata": {},
   "outputs": [
    {
     "name": "stdout",
     "output_type": "stream",
     "text": [
      "Fecha: Tuesday, 05 August 2025 - 17:56\n"
     ]
    }
   ],
   "source": [
    "hoy = datetime.now() # Fecha de hoy\n",
    "\n",
    "# Formatear la fecha\n",
    "formato = hoy.strftime('%A, %d %B %Y - %H:%M')\n",
    "\n",
    "print(\"Fecha:\", formato)"
   ]
  },
  {
   "cell_type": "markdown",
   "id": "a533d701-2c72-4fcb-96d4-9be265669ab1",
   "metadata": {},
   "source": [
    "**3.** Crea una lista de 5 palabras y usa el módulo `random` para elegir una al azar."
   ]
  },
  {
   "cell_type": "code",
   "execution_count": 36,
   "id": "c03cd6be-d699-4bf9-a3eb-faf3bcb3eb1c",
   "metadata": {},
   "outputs": [
    {
     "data": {
      "text/plain": [
       "'fresa'"
      ]
     },
     "execution_count": 36,
     "metadata": {},
     "output_type": "execute_result"
    }
   ],
   "source": [
    "lista = [\"manzana\", \"plátano\", \"fresa\", \"uva\",\"kiwi\"]\n",
    "\n",
    "# choice regresa un elemento aleatorio de una secuencia que no este vacia\n",
    "random.choice(lista) "
   ]
  },
  {
   "cell_type": "markdown",
   "id": "4f56b1a3-bda8-4fa6-978f-fcade00cd705",
   "metadata": {},
   "source": [
    "**4.** Crea tu propio módulo `saludos.py` con una función `decir_hola(nombre)` y úsalo en otro archivo."
   ]
  },
  {
   "cell_type": "code",
   "execution_count": 38,
   "id": "8a8f7266-c638-4238-97a4-a4da11d3d343",
   "metadata": {},
   "outputs": [],
   "source": [
    "def decir_hola(nombre):\n",
    "    print(f\"Saludos {nombre}\")\n",
    "\n",
    "# Para crear el propio modulo debes dejar la funcion en un notebook solo\n",
    "# y cuando lo uses en otro usa import saludos"
   ]
  },
  {
   "cell_type": "markdown",
   "id": "466c59a3-059a-4fb8-a59b-67257e37de28",
   "metadata": {},
   "source": [
    "**5.** Usa el módulo `calendar` para mostrar el calendario del mes actual."
   ]
  },
  {
   "cell_type": "code",
   "execution_count": 35,
   "id": "5ab43d96-9814-4955-b5cb-4692cbd02753",
   "metadata": {},
   "outputs": [
    {
     "name": "stdout",
     "output_type": "stream",
     "text": [
      "    August 2025\n",
      "Mo Tu We Th Fr Sa Su\n",
      "             1  2  3\n",
      " 4  5  6  7  8  9 10\n",
      "11 12 13 14 15 16 17\n",
      "18 19 20 21 22 23 24\n",
      "25 26 27 28 29 30 31\n"
     ]
    }
   ],
   "source": [
    "calendario = calendar.TextCalendar(firstweekday = 0) # Genera un calendario de texto simple\n",
    "\n",
    "calendario.prmonth(2025, 8) # Imprime el calendario del mes"
   ]
  },
  {
   "cell_type": "code",
   "execution_count": null,
   "id": "85bec669-b473-49c2-a81a-568fc75cdf98",
   "metadata": {},
   "outputs": [],
   "source": []
  }
 ],
 "metadata": {
  "kernelspec": {
   "display_name": "Python 3 (ipykernel)",
   "language": "python",
   "name": "python3"
  },
  "language_info": {
   "codemirror_mode": {
    "name": "ipython",
    "version": 3
   },
   "file_extension": ".py",
   "mimetype": "text/x-python",
   "name": "python",
   "nbconvert_exporter": "python",
   "pygments_lexer": "ipython3",
   "version": "3.11.7"
  }
 },
 "nbformat": 4,
 "nbformat_minor": 5
}
